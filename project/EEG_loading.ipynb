{
 "cells": [
  {
   "cell_type": "code",
   "execution_count": 1,
   "metadata": {
    "collapsed": true
   },
   "outputs": [],
   "source": [
    "import numpy as np"
   ]
  },
  {
   "cell_type": "code",
   "execution_count": 2,
   "metadata": {
    "collapsed": true
   },
   "outputs": [],
   "source": [
    "import numpy as np\n",
    "X_test = np.load(\"X_test.npy\")\n",
    "y_test = np.load(\"y_test.npy\")\n",
    "person_train_valid = np.load(\"person_train_valid.npy\")\n",
    "X_train_valid = np.load(\"X_train_valid.npy\")\n",
    "y_train_valid = np.load(\"y_train_valid.npy\")\n",
    "person_test = np.load(\"person_test.npy\")\n"
   ]
  },
  {
   "cell_type": "markdown",
   "metadata": {},
   "source": [
    "### Shape of data"
   ]
  },
  {
   "cell_type": "code",
   "execution_count": 3,
   "metadata": {},
   "outputs": [
    {
     "name": "stdout",
     "output_type": "stream",
     "text": [
      "Training/Valid data shape: (2115, 22, 1000)\n",
      "Test data shape: (443, 22, 1000)\n",
      "Training/Valid target shape: (2115,)\n",
      "Test target shape: (443,)\n",
      "Person train/valid shape: (2115, 1)\n",
      "Person test shape: (443, 1)\n"
     ]
    }
   ],
   "source": [
    "print ('Training/Valid data shape: {}'.format(X_train_valid.shape))\n",
    "print ('Test data shape: {}'.format(X_test.shape))\n",
    "print ('Training/Valid target shape: {}'.format(y_train_valid.shape))\n",
    "print ('Test target shape: {}'.format(y_test.shape))\n",
    "print ('Person train/valid shape: {}'.format(person_train_valid.shape))\n",
    "print ('Person test shape: {}'.format(person_test.shape))\n"
   ]
  },
  {
   "cell_type": "code",
   "execution_count": 15,
   "metadata": {},
   "outputs": [
    {
     "name": "stdout",
     "output_type": "stream",
     "text": [
      "(2115, 1)\n",
      "(443, 1)\n"
     ]
    }
   ],
   "source": [
    "person_train_data = np.load('person_train_valid.npy')\n",
    "#print(person_train_data)\n",
    "#print(person_train_data.shape)\n",
    "subzero_idx = [i for i, x in enumerate(person_train_data) if x == 0] \n",
    "subone_idx = [i for i, x in enumerate(person_train_data) if x == 1]\n",
    "subtwo_idx = [i for i, x in enumerate(person_train_data) if x == 2]\n",
    "subthree_idx = [i for i, x in enumerate(person_train_data) if x == 3]\n",
    "subfour_idx = [i for i, x in enumerate(person_train_data) if x == 4]\n",
    "subfive_idx = [i for i, x in enumerate(person_train_data) if x == 5]\n",
    "subsix_idx = [i for i, x in enumerate(person_train_data) if x == 6]\n",
    "subseven_idx = [i for i, x in enumerate(person_train_data) if x == 7]\n",
    "subeight_idx = [i for i, x in enumerate(person_train_data) if x == 8]\n",
    "subnine_idx = [i for i, x in enumerate(person_train_data) if x == 9]\n",
    "\n",
    "\n",
    "\n",
    "person_test_data = np.load('person_test.npy')"
   ]
  }
 ],
 "metadata": {
  "kernelspec": {
   "display_name": "new183",
   "language": "python",
   "name": "python3"
  },
  "language_info": {
   "codemirror_mode": {
    "name": "ipython",
    "version": 3
   },
   "file_extension": ".py",
   "mimetype": "text/x-python",
   "name": "python",
   "nbconvert_exporter": "python",
   "pygments_lexer": "ipython3",
   "version": "3.12.1"
  }
 },
 "nbformat": 4,
 "nbformat_minor": 2
}
